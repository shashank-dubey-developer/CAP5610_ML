{
  "nbformat": 4,
  "nbformat_minor": 0,
  "metadata": {
    "colab": {
      "provenance": [],
      "machine_shape": "hm",
      "authorship_tag": "ABX9TyM9KaKaURUdA4Hs892vbKgP",
      "include_colab_link": true
    },
    "kernelspec": {
      "name": "python3",
      "display_name": "Python 3"
    },
    "language_info": {
      "name": "python"
    },
    "accelerator": "TPU",
    "gpuClass": "premium"
  },
  "cells": [
    {
      "cell_type": "markdown",
      "metadata": {
        "id": "view-in-github",
        "colab_type": "text"
      },
      "source": [
        "<a href=\"https://colab.research.google.com/github/shashankdubey78/CAP5610_ML/blob/main/K_Means.ipynb\" target=\"_parent\"><img src=\"https://colab.research.google.com/assets/colab-badge.svg\" alt=\"Open In Colab\"/></a>"
      ]
    },
    {
      "cell_type": "code",
      "execution_count": 5,
      "metadata": {
        "id": "l_BNoLEUFPPr"
      },
      "outputs": [],
      "source": [
        "import time\n",
        "import random\n",
        "from multiprocessing import Pool\n",
        "import numpy as np\n",
        "import pandas as pd\n",
        "import math\n",
        "from math import sqrt\n",
        "\n",
        "import matplotlib.pyplot as plt\n",
        "%matplotlib inline"
      ]
    },
    {
      "cell_type": "code",
      "source": [
        "def calculate_euclidean_dist(x, y):\n",
        "\t\treturn np.sqrt(np.sum(np.square(np.subtract(x, y))))\n",
        "\n",
        "def calculate_cosine_sim(x, y):\n",
        "\t\treturn 1 - (np.dot(x, y) / (np.linalg.norm(x) * np.linalg.norm(y)))\n",
        "\n",
        "def calculate_jaccard_dist(x, y):\n",
        "\t\treturn 1 - np.divide(np.sum(np.minimum(x, y)), np.sum(np.maximum(x, y)))\n",
        "\n",
        "def Calculate_SSE(distance, occurences, centroids):\n",
        "\tsseval = 0\n",
        "\tfor c in centroids:\n",
        "\t\tfor i in occurences:\n",
        "\t\t\tsseval += distance(i, c) ** 2\n",
        "\treturn sseval"
      ],
      "metadata": {
        "id": "Wl_4WBa3NNcV"
      },
      "execution_count": 6,
      "outputs": []
    },
    {
      "cell_type": "code",
      "source": [
        "def assign(occurences, centroids, distance):\n",
        "    mininumDistance = float('Inf')\n",
        "    mininumDistanceIndex = 0\n",
        "    len_centroid = len(centroids)\n",
        "    for i in range(len_centroid):\n",
        "        dis = distance(occurences, centroids[i])\n",
        "        if (dis < mininumDistance):\n",
        "            mininumDistance = dis\n",
        "            mininumDistanceIndex = i\n",
        "    return mininumDistanceIndex\n",
        "\n",
        "\n",
        "def createEmptyListLists(numLists):\n",
        "    lis = []\n",
        "    for i in range(numLists):\n",
        "        lis.append([])\n",
        "    return lis\n",
        "\n",
        "\n",
        "def assignAllValues(occurences, centroids, dist):\n",
        "    clusters = createEmptyListLists(len(centroids))\n",
        "    assignments = np.empty(len(occurences), dtype=np.int8)\n",
        "    i = 0\n",
        "    for occurence in occurences:\n",
        "        clusterIndex = assign(occurence, centroids, dist)\n",
        "        clusters[clusterIndex].append(occurence)\n",
        "        assignments[i] = clusterIndex\n",
        "        i += 1\n",
        "    return (clusters, assignments)\n",
        "\n",
        "\n",
        "def calculateCentroids(clusters):\n",
        "    centroids = []\n",
        "    len_cluster=len(clusters)\n",
        "    for i in range(len_cluster):\n",
        "        name = \"centroid\" + str(i)\n",
        "        # centroid = meanInstance(name, clusters[i])\n",
        "        centroid = np.mean(clusters[i], axis=0).tolist()\n",
        "        centroids.append(centroid)\n",
        "    return centroids\n",
        "\n",
        "\n",
        "def calculate_kmeans(instances, k=10, distance=calculate_cosine_sim, stopCondition='Max_Preset', iteration_limit=500, initCentroids=None):\n",
        "\n",
        "    VALID_STOP_CONDITIONS = ['CENTROIDS_STABLE', 'SSE_INCREASED', 'MAX_PRESET', 'ANY']\n",
        "    stopCondition = stopCondition.upper()\n",
        "    if not stopCondition in VALID_STOP_CONDITIONS:\n",
        "\t    raise ValueError(\"Invalid stopCondition: %s\" % stopCondition)\n",
        "\n",
        "    start_time = time.time()\n",
        "\n",
        "    if (initCentroids is None or len(initCentroids) < k):\n",
        "        rng = np.random.default_rng()\n",
        "        centroids = rng.choice(\n",
        "            instances, k, replace=False, shuffle=False).tolist()\n",
        "    else:\n",
        "        centroids = initCentroids\n",
        "    prevCentroids = []\n",
        "    iterations = 0\n",
        "    prevSSE = currentSSE = float('inf')\n",
        "    keep_going = True\n",
        "    stopReason = None\n",
        "    while keep_going:\n",
        "        iterations += 1\n",
        "        (clusters, assignments) = assignAllValues(instances, centroids, distance)\n",
        "        prevCentroids = centroids\n",
        "        centroids = calculateCentroids(clusters)\n",
        "\n",
        "        if stopCondition == 'Centroids_Stable' or stopCondition == 'ANY':\n",
        "            keep_going = (centroids != prevCentroids)\n",
        "            stopReason = 'Centroids_Stable'\n",
        "        if stopCondition == 'SSE_Increased' or stopCondition == 'ANY':\n",
        "            prevSSE = currentSSE\n",
        "            currentSSE = Calculate_SSE(distance, instances, centroids)\n",
        "            keep_going = (currentSSE < prevSSE)\n",
        "            stopReason = 'SSE_Increased'\n",
        "        if iterations >= iteration_limit:\n",
        "            keep_going = False\n",
        "            stopReason = 'Max_Preset'\n",
        "\n",
        "    endtime = time.time()\n",
        "\n",
        "    result = {\n",
        "        '#iterations': iterations,\n",
        "        'timeTaken': endtime - start_time,\n",
        "        'SSE_': Calculate_SSE(distance, instances, centroids),\n",
        "        'assignments': assignments,\n",
        "        'stoppingReason': stopReason,\n",
        "    }\n",
        "    return result\n"
      ],
      "metadata": {
        "id": "U0Zzz0wHNfFJ"
      },
      "execution_count": 7,
      "outputs": []
    },
    {
      "cell_type": "code",
      "source": [
        "DATA_PATH = './data.csv'\n",
        "LABEL_PATH = './label.csv'\n",
        "\n",
        "DATA = pd.read_csv(DATA_PATH, header=None)\n",
        "LABEL = pd.read_csv(LABEL_PATH, names=['truth'])\n",
        "\n",
        "droplist = []\n",
        "for column in DATA:\n",
        "\tif(DATA[column].max() == 0):\n",
        "\t\tdroplist.append(column)\n",
        "DATA.drop(columns=droplist, inplace=True)\n",
        "\n",
        "SAMPLE_SIZE = 500\n",
        "DATA_SMALL = DATA.sample(SAMPLE_SIZE)\n",
        "LABEL_SMALL = LABEL.iloc[DATA_SMALL.index]\n",
        "\n",
        "DATA = DATA.to_numpy(dtype=np.int16)\n",
        "# LABEL = LABEL.to_numpy(dtype=np.int16)\n",
        "DATA_SMALL = DATA_SMALL.to_numpy(dtype=np.int16)\n",
        "# LABEL_SMALL = LABEL_SMALL\n",
        "CATEGORIES = len(np.unique(LABEL_SMALL))\n",
        "\n",
        "np.shape(DATA), np.shape(LABEL), np.shape(DATA_SMALL), np.shape(LABEL_SMALL)"
      ],
      "metadata": {
        "colab": {
          "base_uri": "https://localhost:8080/"
        },
        "id": "7mS2yAXdNpd5",
        "outputId": "2066cc19-3641-480c-d61f-6a37b387c11a"
      },
      "execution_count": 8,
      "outputs": [
        {
          "output_type": "execute_result",
          "data": {
            "text/plain": [
              "((1159, 604), (10000, 1), (500, 604), (500, 1))"
            ]
          },
          "metadata": {},
          "execution_count": 8
        }
      ]
    },
    {
      "cell_type": "code",
      "source": [
        "def runAllTests(argsObj, groundTruth):\n",
        "\tpool = Pool()\n",
        "\tresults = pool.starmap(calculate_kmeans, argsObj.values())\n",
        "\n",
        "\tresultsOb = {}\n",
        "\ti = 0\n",
        "\tfor key in argsObj:\n",
        "\t\tresultsOb[key] = results[i]\n",
        "\t\ti += 1\n",
        "\n",
        "\tbenchmarkValue = pd.DataFrame(resultsOb).transpose()\n",
        "\n",
        "\tscores = pd.Series(dtype=float, name=\"accuracy\")\n",
        "\tfor key in argsObj.keys():\n",
        "\t\tassignment = benchmarkValue.assignments[key]\n",
        "\t\tscores[key] = calculate_score(assignment, groundTruth)\n",
        "\n",
        "\tbenchmarkValue = pd.concat([benchmarkValue, scores], axis=1).drop('assignments', axis=1)\n",
        "\treturn benchmarkValue\n",
        "\n",
        "def calculate_score(assignments, groundTruth):\n",
        "\tclusteringLabels = {}\n",
        "\tclustering_Score = pd.DataFrame()\n",
        "\tassignment_Series = pd.Series(assignments, index=groundTruth.index, name='assignments')\n",
        "\tassignment_Table = pd.concat([assignment_Series, groundTruth], axis=1)\n",
        "\n",
        "\tfor i in range(CATEGORIES):\n",
        "\t\tcountVal = assignment_Table.loc[assignment_Table['assignments'] == i].groupby('truth').count()\n",
        "\t\tcountVal = countVal.assignments.rename(index=(i))\n",
        "\t\tclustering_Score = pd.concat([clustering_Score, countVal], axis=1)\n",
        "\n",
        "\tclustering_Score.fillna(0, inplace=True)\n",
        "\tfor cluster in clustering_Score:\n",
        "\t\tassignedLabel = clustering_Score[cluster].idxmax()\n",
        "\t\tclusteringLabels[cluster] = assignedLabel\n",
        "\t\tclustering_Score.drop(assignedLabel, inplace=True)\n",
        "\n",
        "\tassignedLabels = []\n",
        "\tfor i in assignments:\n",
        "\t\tassignedLabels.append(clusteringLabels[i])\n",
        "\n",
        "\treturn np.sum(assignedLabels == groundTruth.truth) / len(assignedLabels)"
      ],
      "metadata": {
        "id": "joF8IZI8PTIc"
      },
      "execution_count": 11,
      "outputs": []
    },
    {
      "cell_type": "code",
      "source": [
        "args1 = {\n",
        "    'Euclidean Dist.': [DATA, CATEGORIES, calculate_euclidean_dist, 'Centroids_Stable'],\n",
        "    'Cosine Dist.': [DATA, CATEGORIES, calculate_cosine_sim, 'Centroids_Stable'],\n",
        "    'Jaccard Dist.': [DATA, CATEGORIES, calculate_jaccard_dist, 'Centroids_Stable'],\n",
        "}\n",
        "\n",
        "benchmarks1 = runAllTests(args1, LABEL)"
      ],
      "metadata": {
        "id": "_ZGnlqxgPkeq"
      },
      "execution_count": null,
      "outputs": []
    },
    {
      "cell_type": "code",
      "source": [
        "benchmarks1.style.background_gradient(axis=0, cmap ='gist_heat_r')"
      ],
      "metadata": {
        "id": "0sb0v1PsPvss"
      },
      "execution_count": null,
      "outputs": []
    },
    {
      "cell_type": "code",
      "source": [
        "args3 = {\n",
        "    'Euclidean Dist.': [DATA, CATEGORIES, calculate_euclidean_dist, 'any', 100],\n",
        "    'Cosine Dist.': [DATA, CATEGORIES, calculate_cosine_sim, 'any', 100],\n",
        "    'Jaccard Dist.': [DATA, CATEGORIES, calculate_jaccard_dist, 'any', 100],\n",
        "}\n",
        "\n",
        "benchmarks3 = runAllTests(args3, LABEL)"
      ],
      "metadata": {
        "id": "KCXtoH8sUVJ1"
      },
      "execution_count": null,
      "outputs": []
    },
    {
      "cell_type": "code",
      "source": [
        "benchmarks3.style.background_gradient(axis=0, cmap ='gist_heat_r')"
      ],
      "metadata": {
        "id": "H25btLgwc9tQ"
      },
      "execution_count": null,
      "outputs": []
    },
    {
      "cell_type": "code",
      "source": [
        "LIMIT = 100\n",
        "args4 = {\n",
        "    'Euclidean_Centroids': [DATA, CATEGORIES, calculate_euclidean_dist, 'centroids'],\n",
        "    'Euclidean_SSE_': [DATA, CATEGORIES, calculate_euclidean_dist, 'SSE'],\n",
        "    'Euclidean_Limit': [DATA, CATEGORIES, calculate_euclidean_dist, 'limit', LIMIT],\n",
        "    'Cosine_Centroids': [DATA, CATEGORIES, calculate_cosine_sim, 'centroids'],\n",
        "    'Cosine_SSE': [DATA, CATEGORIES, calculate_cosine_sim, 'SSE'],\n",
        "    'Cosine_Limit': [DATA, CATEGORIES, calculate_cosine_sim, 'limit', LIMIT],\n",
        "    'Jaccard_Centroids': [DATA, CATEGORIES, calculate_jaccard_dist, 'centroids'],\n",
        "    'Jaccard_SSE': [DATA, CATEGORIES, calculate_jaccard_dist, 'SSE'],\n",
        "    'Jaccard_Limit': [DATA, CATEGORIES, calculate_jaccard_dist, 'limit', LIMIT],\n",
        "}\n",
        "\n",
        "benchmarks4 = runAllTests(args4, LABEL)"
      ],
      "metadata": {
        "id": "4wZvJtCunQap"
      },
      "execution_count": null,
      "outputs": []
    },
    {
      "cell_type": "code",
      "source": [
        "benchmarks4.style.background_gradient(axis=0, cmap ='gist_heat_r')"
      ],
      "metadata": {
        "id": "d0BykYFznxZx"
      },
      "execution_count": null,
      "outputs": []
    },
    {
      "cell_type": "code",
      "source": [],
      "metadata": {
        "id": "NEkz-KAGs7wf"
      },
      "execution_count": null,
      "outputs": []
    }
  ]
}