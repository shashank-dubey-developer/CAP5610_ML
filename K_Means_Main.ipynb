{
  "nbformat": 4,
  "nbformat_minor": 0,
  "metadata": {
    "colab": {
      "provenance": [],
      "machine_shape": "hm",
      "authorship_tag": "ABX9TyMy1ey9sHwjk421utA4G46s",
      "include_colab_link": true
    },
    "kernelspec": {
      "name": "python3",
      "display_name": "Python 3"
    },
    "language_info": {
      "name": "python"
    },
    "accelerator": "TPU",
    "gpuClass": "standard"
  },
  "cells": [
    {
      "cell_type": "markdown",
      "metadata": {
        "id": "view-in-github",
        "colab_type": "text"
      },
      "source": [
        "<a href=\"https://colab.research.google.com/github/shashankdubey78/CAP5610_ML/blob/main/K_Means_Main.ipynb\" target=\"_parent\"><img src=\"https://colab.research.google.com/assets/colab-badge.svg\" alt=\"Open In Colab\"/></a>"
      ]
    },
    {
      "cell_type": "code",
      "execution_count": 1,
      "metadata": {
        "id": "rFQb8r42fFCH"
      },
      "outputs": [],
      "source": [
        "import time\n",
        "import random\n",
        "from multiprocessing import Pool\n",
        "import numpy as np\n",
        "import pandas as pd\n",
        "import math\n",
        "from math import sqrt\n",
        "\n",
        "import matplotlib.pyplot as plt\n",
        "%matplotlib inline"
      ]
    },
    {
      "cell_type": "code",
      "source": [
        "def calculate_euclidean_dist(x, y):\n",
        "\t\treturn np.sqrt(np.sum(np.square(np.subtract(x, y))))\n",
        "\n",
        "def calculate_cosine_sim(x, y):\n",
        "\t\treturn 1 - (np.dot(x, y) / (np.linalg.norm(x) * np.linalg.norm(y)))\n",
        "\n",
        "def calculate_jaccard_dist(x, y):\n",
        "\t\treturn 1 - np.divide(np.sum(np.minimum(x, y)), np.sum(np.maximum(x, y)))\n",
        "\n",
        "def Calculate_SSE(distance, occurences, centroids):\n",
        "\tsseval = 0\n",
        "\tfor c in centroids:\n",
        "\t\tfor i in occurences:\n",
        "\t\t\tsseval += distance(i, c) ** 2\n",
        "\treturn sseval"
      ],
      "metadata": {
        "id": "xOE0xJL1fQzY"
      },
      "execution_count": 2,
      "outputs": []
    },
    {
      "cell_type": "code",
      "source": [
        "def assign(occurences, centroids, distance):\n",
        "    mininumDistance = float('Inf')\n",
        "    mininumDistanceIndex = 0\n",
        "    len_centroid = len(centroids)\n",
        "    for i in range(len_centroid):\n",
        "        dis = distance(occurences, centroids[i])\n",
        "        if (dis < mininumDistance):\n",
        "            mininumDistance = dis\n",
        "            mininumDistanceIndex = i\n",
        "    return mininumDistanceIndex\n",
        "\n",
        "\n",
        "def createEmptyListLists(numLists):\n",
        "    lis = []\n",
        "    for i in range(numLists):\n",
        "        lis.append([])\n",
        "    return lis\n",
        "\n",
        "\n",
        "def assignAllValues(occurences, centroids, dist):\n",
        "    clusters = createEmptyListLists(len(centroids))\n",
        "    assignments = np.empty(len(occurences), dtype=np.int8)\n",
        "    i = 0\n",
        "    for occurence in occurences:\n",
        "        clusterIndex = assign(occurence, centroids, dist)\n",
        "        clusters[clusterIndex].append(occurence)\n",
        "        assignments[i] = clusterIndex\n",
        "        i += 1\n",
        "    return (clusters, assignments)\n",
        "\n",
        "\n",
        "def calculateCentroids(clusters):\n",
        "    centroids = []\n",
        "    len_cluster=len(clusters)\n",
        "    for i in range(len_cluster):\n",
        "        name = \"centroid\" + str(i)\n",
        "        # centroid = meanInstance(name, clusters[i])\n",
        "        centroid = np.mean(clusters[i], axis=0).tolist()\n",
        "        centroids.append(centroid)\n",
        "    return centroids\n",
        "\n",
        "\n",
        "def calculate_kmeans(instances, k=10, distance=calculate_cosine_sim, stopCondition='Max_Preset', iteration_limit=500, initCentroids=None):\n",
        "\n",
        "    VALID_STOP_CONDITIONS = ['CENTROIDS', 'SSE', 'LIMIT', 'ANY']\n",
        "    stopCondition = stopCondition.upper()\n",
        "    if not stopCondition in VALID_STOP_CONDITIONS:\n",
        "\t    raise ValueError(\"Invalid stopCondition: %s\" % stopCondition)\n",
        "\n",
        "    start_time = time.time()\n",
        "\n",
        "    if (initCentroids is None or len(initCentroids) < k):\n",
        "        rng = np.random.default_rng()\n",
        "        centroids = rng.choice(\n",
        "            instances, k, replace=False, shuffle=False).tolist()\n",
        "    else:\n",
        "        centroids = initCentroids\n",
        "    prevCentroids = []\n",
        "    iterations = 0\n",
        "    prevSSE = currentSSE = float('inf')\n",
        "    keep_going = True\n",
        "    stopReason = None\n",
        "    while keep_going:\n",
        "        iterations += 1\n",
        "        (clusters, assignments) = assignAllValues(instances, centroids, distance)\n",
        "        prevCentroids = centroids\n",
        "        centroids = calculateCentroids(clusters)\n",
        "\n",
        "        if stopCondition == 'CENTROIDS' or stopCondition == 'ANY':\n",
        "            keep_going = (centroids != prevCentroids)\n",
        "            stopReason = 'centroids'\n",
        "        if stopCondition == 'SSE' or stopCondition == 'ANY':\n",
        "            prevSSE = currentSSE\n",
        "            currentSSE = Calculate_SSE(distance, instances, centroids)\n",
        "            keep_going = (currentSSE < prevSSE)\n",
        "            stopReason = 'SSE'\n",
        "        if iterations >= iteration_limit:\n",
        "            keep_going = False\n",
        "            stopReason = 'limit'\n",
        "\n",
        "    endtime = time.time()\n",
        "\n",
        "    result = {\n",
        "        '#iterations': iterations,\n",
        "        'timeTaken': endtime - start_time,\n",
        "        'SSE_': Calculate_SSE(distance, instances, centroids),\n",
        "        'assignments': assignments,\n",
        "        'stoppingReason': stopReason,\n",
        "    }\n",
        "    return result\n"
      ],
      "metadata": {
        "id": "DYettowpfS6F"
      },
      "execution_count": 14,
      "outputs": []
    },
    {
      "cell_type": "code",
      "source": [
        "DATA_PATH = './data.csv'\n",
        "LABEL_PATH = './label.csv'\n",
        "\n",
        "DATA = pd.read_csv(DATA_PATH, header=None)\n",
        "LABEL = pd.read_csv(LABEL_PATH, names=['truth'])\n",
        "\n",
        "droplist = []\n",
        "for column in DATA:\n",
        "\tif(DATA[column].max() == 0):\n",
        "\t\tdroplist.append(column)\n",
        "DATA.drop(columns=droplist, inplace=True)\n",
        "\n",
        "SAMPLE_SIZE = 500\n",
        "DATA_SMALL = DATA.sample(SAMPLE_SIZE)\n",
        "LABEL_SMALL = LABEL.iloc[DATA_SMALL.index]\n",
        "\n",
        "DATA = DATA.to_numpy(dtype=np.int16)\n",
        "# LABEL = LABEL.to_numpy(dtype=np.int16)\n",
        "DATA_SMALL = DATA_SMALL.to_numpy(dtype=np.int16)\n",
        "# LABEL_SMALL = LABEL_SMALL\n",
        "CATEGORIES = len(np.unique(LABEL))\n",
        "\n",
        "np.shape(DATA), np.shape(LABEL), np.shape(DATA_SMALL), np.shape(LABEL_SMALL)"
      ],
      "metadata": {
        "colab": {
          "base_uri": "https://localhost:8080/"
        },
        "id": "Ej9WMqZtffg9",
        "outputId": "e1b80761-7ee8-42f8-8127-1ab2a7088b60"
      },
      "execution_count": 15,
      "outputs": [
        {
          "output_type": "execute_result",
          "data": {
            "text/plain": [
              "((10000, 668), (10000, 1), (500, 668), (500, 1))"
            ]
          },
          "metadata": {},
          "execution_count": 15
        }
      ]
    },
    {
      "cell_type": "code",
      "source": [
        "def runAllTests(argsObj, groundTruth):\n",
        "\tpool = Pool()\n",
        "\tresults = pool.starmap(calculate_kmeans, argsObj.values())\n",
        "\n",
        "\tresultsOb = {}\n",
        "\ti = 0\n",
        "\tfor key in argsObj:\n",
        "\t\tresultsOb[key] = results[i]\n",
        "\t\ti += 1\n",
        "\n",
        "\tbenchmarkValue = pd.DataFrame(resultsOb).transpose()\n",
        "\n",
        "\tscores = pd.Series(dtype=float, name=\"accuracy\")\n",
        "\tfor key in argsObj.keys():\n",
        "\t\tassignment = benchmarkValue.assignments[key]\n",
        "\t\tscores[key] = calculate_score(assignment, groundTruth)\n",
        "\n",
        "\tbenchmarkValue = pd.concat([benchmarkValue, scores], axis=1).drop('assignments', axis=1)\n",
        "\treturn benchmarkValue\n",
        "\n",
        "def calculate_score(assignments, groundTruth):\n",
        "\tclusteringLabels = {}\n",
        "\tclustering_Score = pd.DataFrame()\n",
        "\tassignment_Series = pd.Series(assignments, index=groundTruth.index, name='assignments')\n",
        "\tassignment_Table = pd.concat([assignment_Series, groundTruth], axis=1)\n",
        "\n",
        "\tfor i in range(CATEGORIES):\n",
        "\t\tcountVal = assignment_Table.loc[assignment_Table['assignments'] == i].groupby('truth').count()\n",
        "\t\tcountVal = countVal.assignments.rename(index=(i))\n",
        "\t\tclustering_Score = pd.concat([clustering_Score, countVal], axis=1)\n",
        "\n",
        "\tclustering_Score.fillna(0, inplace=True)\n",
        "\tfor cluster in clustering_Score:\n",
        "\t\tassignedLabel = clustering_Score[cluster].idxmax()\n",
        "\t\tclusteringLabels[cluster] = assignedLabel\n",
        "\t\tclustering_Score.drop(assignedLabel, inplace=True)\n",
        "\n",
        "\tassignedLabels = []\n",
        "\tfor i in assignments:\n",
        "\t\tassignedLabels.append(clusteringLabels[i])\n",
        "\n",
        "\treturn np.sum(assignedLabels == groundTruth.truth) / len(assignedLabels)"
      ],
      "metadata": {
        "id": "l1iD74sFfi8r"
      },
      "execution_count": 16,
      "outputs": []
    },
    {
      "cell_type": "code",
      "source": [
        "args1 = {\n",
        "    'Euclid': [DATA, CATEGORIES, calculate_euclidean_dist, 'centroids'],\n",
        "    'Cos': [DATA, CATEGORIES, calculate_cosine_sim, 'centroids'],\n",
        "    'Jac': [DATA, CATEGORIES, calculate_jaccard_dist, 'centroids'],\n",
        "}\n",
        "\n",
        "benchmarks1 = runAllTests(args1, LABEL)"
      ],
      "metadata": {
        "id": "a0FCbybpfnAz"
      },
      "execution_count": 17,
      "outputs": []
    },
    {
      "cell_type": "code",
      "source": [
        "benchmarks1.style.background_gradient(axis=0, cmap ='gist_heat_r')"
      ],
      "metadata": {
        "colab": {
          "base_uri": "https://localhost:8080/",
          "height": 143
        },
        "id": "km7eRk84f9RH",
        "outputId": "6a90f4bc-62c1-4f79-c175-14e85db4a8f6"
      },
      "execution_count": 18,
      "outputs": [
        {
          "output_type": "execute_result",
          "data": {
            "text/plain": [
              "<pandas.io.formats.style.Styler at 0x7f8ab489f3d0>"
            ],
            "text/html": [
              "<style type=\"text/css\">\n",
              "#T_1a4a6_row0_col4 {\n",
              "  background-color: #3d0000;\n",
              "  color: #f1f1f1;\n",
              "}\n",
              "#T_1a4a6_row1_col4 {\n",
              "  background-color: #000000;\n",
              "  color: #f1f1f1;\n",
              "}\n",
              "#T_1a4a6_row2_col4 {\n",
              "  background-color: #ffffff;\n",
              "  color: #000000;\n",
              "}\n",
              "</style>\n",
              "<table id=\"T_1a4a6_\" class=\"dataframe\">\n",
              "  <thead>\n",
              "    <tr>\n",
              "      <th class=\"blank level0\" >&nbsp;</th>\n",
              "      <th class=\"col_heading level0 col0\" >#iterations</th>\n",
              "      <th class=\"col_heading level0 col1\" >timeTaken</th>\n",
              "      <th class=\"col_heading level0 col2\" >SSE_</th>\n",
              "      <th class=\"col_heading level0 col3\" >stoppingReason</th>\n",
              "      <th class=\"col_heading level0 col4\" >accuracy</th>\n",
              "    </tr>\n",
              "  </thead>\n",
              "  <tbody>\n",
              "    <tr>\n",
              "      <th id=\"T_1a4a6_level0_row0\" class=\"row_heading level0 row0\" >Euclid</th>\n",
              "      <td id=\"T_1a4a6_row0_col0\" class=\"data row0 col0\" >47</td>\n",
              "      <td id=\"T_1a4a6_row0_col1\" class=\"data row0 col1\" >300.343814</td>\n",
              "      <td id=\"T_1a4a6_row0_col2\" class=\"data row0 col2\" >436330610937.015503</td>\n",
              "      <td id=\"T_1a4a6_row0_col3\" class=\"data row0 col3\" >centroids</td>\n",
              "      <td id=\"T_1a4a6_row0_col4\" class=\"data row0 col4\" >0.580500</td>\n",
              "    </tr>\n",
              "    <tr>\n",
              "      <th id=\"T_1a4a6_level0_row1\" class=\"row_heading level0 row1\" >Cos</th>\n",
              "      <td id=\"T_1a4a6_row1_col0\" class=\"data row1 col0\" >90</td>\n",
              "      <td id=\"T_1a4a6_row1_col1\" class=\"data row1 col1\" >1082.544530</td>\n",
              "      <td id=\"T_1a4a6_row1_col2\" class=\"data row1 col2\" >22254.082816</td>\n",
              "      <td id=\"T_1a4a6_row1_col3\" class=\"data row1 col3\" >centroids</td>\n",
              "      <td id=\"T_1a4a6_row1_col4\" class=\"data row1 col4\" >0.592800</td>\n",
              "    </tr>\n",
              "    <tr>\n",
              "      <th id=\"T_1a4a6_level0_row2\" class=\"row_heading level0 row2\" >Jac</th>\n",
              "      <td id=\"T_1a4a6_row2_col0\" class=\"data row2 col0\" >36</td>\n",
              "      <td id=\"T_1a4a6_row2_col1\" class=\"data row2 col1\" >412.940321</td>\n",
              "      <td id=\"T_1a4a6_row2_col2\" class=\"data row2 col2\" >55511.440248</td>\n",
              "      <td id=\"T_1a4a6_row2_col3\" class=\"data row2 col3\" >centroids</td>\n",
              "      <td id=\"T_1a4a6_row2_col4\" class=\"data row2 col4\" >0.516900</td>\n",
              "    </tr>\n",
              "  </tbody>\n",
              "</table>\n"
            ]
          },
          "metadata": {},
          "execution_count": 18
        }
      ]
    },
    {
      "cell_type": "code",
      "source": [
        "args3 = {\n",
        "    'Euclid': [DATA, CATEGORIES, calculate_euclidean_dist, 'any', 100],\n",
        "    'Cos': [DATA, CATEGORIES, calculate_cosine_sim, 'any', 100],\n",
        "    'Jac': [DATA, CATEGORIES, calculate_jaccard_dist, 'any', 100],\n",
        "}\n",
        "\n",
        "benchmarks3 = runAllTests(args3, LABEL)"
      ],
      "metadata": {
        "id": "vC7jbNvqnw-w"
      },
      "execution_count": 19,
      "outputs": []
    },
    {
      "cell_type": "code",
      "source": [
        "benchmarks3.style.background_gradient(axis=0, cmap ='gist_heat_r')"
      ],
      "metadata": {
        "colab": {
          "base_uri": "https://localhost:8080/",
          "height": 143
        },
        "id": "szQKJ-oVn8bG",
        "outputId": "d2f59df7-624a-4ed6-f385-85ea5ddf4ee5"
      },
      "execution_count": 20,
      "outputs": [
        {
          "output_type": "execute_result",
          "data": {
            "text/plain": [
              "<pandas.io.formats.style.Styler at 0x7f8a923e29d0>"
            ],
            "text/html": [
              "<style type=\"text/css\">\n",
              "#T_9f2ea_row0_col4 {\n",
              "  background-color: #ffffff;\n",
              "  color: #000000;\n",
              "}\n",
              "#T_9f2ea_row1_col4 {\n",
              "  background-color: #e12d00;\n",
              "  color: #f1f1f1;\n",
              "}\n",
              "#T_9f2ea_row2_col4 {\n",
              "  background-color: #000000;\n",
              "  color: #f1f1f1;\n",
              "}\n",
              "</style>\n",
              "<table id=\"T_9f2ea_\" class=\"dataframe\">\n",
              "  <thead>\n",
              "    <tr>\n",
              "      <th class=\"blank level0\" >&nbsp;</th>\n",
              "      <th class=\"col_heading level0 col0\" >#iterations</th>\n",
              "      <th class=\"col_heading level0 col1\" >timeTaken</th>\n",
              "      <th class=\"col_heading level0 col2\" >SSE_</th>\n",
              "      <th class=\"col_heading level0 col3\" >stoppingReason</th>\n",
              "      <th class=\"col_heading level0 col4\" >accuracy</th>\n",
              "    </tr>\n",
              "  </thead>\n",
              "  <tbody>\n",
              "    <tr>\n",
              "      <th id=\"T_9f2ea_level0_row0\" class=\"row_heading level0 row0\" >Euclid</th>\n",
              "      <td id=\"T_9f2ea_row0_col0\" class=\"data row0 col0\" >2</td>\n",
              "      <td id=\"T_9f2ea_row0_col1\" class=\"data row0 col1\" >25.532503</td>\n",
              "      <td id=\"T_9f2ea_row0_col2\" class=\"data row0 col2\" >439769538619.573792</td>\n",
              "      <td id=\"T_9f2ea_row0_col3\" class=\"data row0 col3\" >SSE</td>\n",
              "      <td id=\"T_9f2ea_row0_col4\" class=\"data row0 col4\" >0.372200</td>\n",
              "    </tr>\n",
              "    <tr>\n",
              "      <th id=\"T_9f2ea_level0_row1\" class=\"row_heading level0 row1\" >Cos</th>\n",
              "      <td id=\"T_9f2ea_row1_col0\" class=\"data row1 col0\" >2</td>\n",
              "      <td id=\"T_9f2ea_row1_col1\" class=\"data row1 col1\" >48.574360</td>\n",
              "      <td id=\"T_9f2ea_row1_col2\" class=\"data row1 col2\" >21487.016990</td>\n",
              "      <td id=\"T_9f2ea_row1_col3\" class=\"data row1 col3\" >SSE</td>\n",
              "      <td id=\"T_9f2ea_row1_col4\" class=\"data row1 col4\" >0.434000</td>\n",
              "    </tr>\n",
              "    <tr>\n",
              "      <th id=\"T_9f2ea_level0_row2\" class=\"row_heading level0 row2\" >Jac</th>\n",
              "      <td id=\"T_9f2ea_row2_col0\" class=\"data row2 col0\" >4</td>\n",
              "      <td id=\"T_9f2ea_row2_col1\" class=\"data row2 col1\" >91.377638</td>\n",
              "      <td id=\"T_9f2ea_row2_col2\" class=\"data row2 col2\" >55159.663568</td>\n",
              "      <td id=\"T_9f2ea_row2_col3\" class=\"data row2 col3\" >SSE</td>\n",
              "      <td id=\"T_9f2ea_row2_col4\" class=\"data row2 col4\" >0.522400</td>\n",
              "    </tr>\n",
              "  </tbody>\n",
              "</table>\n"
            ]
          },
          "metadata": {},
          "execution_count": 20
        }
      ]
    },
    {
      "cell_type": "code",
      "source": [
        "LIMIT = 100\n",
        "args4 = {\n",
        "    'Euc_Cent': [DATA, CATEGORIES, calculate_euclidean_dist, 'centroids'],\n",
        "    'Euc_SSE': [DATA, CATEGORIES, calculate_euclidean_dist, 'SSE'],\n",
        "    'Euc_Limit': [DATA, CATEGORIES, calculate_euclidean_dist, 'limit', LIMIT],\n",
        "    'Cos_Cent': [DATA, CATEGORIES, calculate_cosine_sim, 'centroids'],\n",
        "    'Cos_SSE': [DATA, CATEGORIES, calculate_cosine_sim, 'SSE'],\n",
        "    'Cos_Limit': [DATA, CATEGORIES, calculate_cosine_sim, 'limit', LIMIT],\n",
        "    'Jac_Cent': [DATA, CATEGORIES, calculate_jaccard_dist, 'centroids'],\n",
        "    'Jac_SSE': [DATA, CATEGORIES, calculate_jaccard_dist, 'SSE'],\n",
        "    'Jac_Limit': [DATA, CATEGORIES, calculate_jaccard_dist, 'limit', LIMIT],\n",
        "}\n",
        "\n",
        "benchmarks4 = runAllTests(args4, LABEL)"
      ],
      "metadata": {
        "id": "FboliMn0o0Vr"
      },
      "execution_count": null,
      "outputs": []
    },
    {
      "cell_type": "code",
      "source": [
        "benchmarks4.style.background_gradient(axis=0, cmap ='gist_heat_r')"
      ],
      "metadata": {
        "id": "i3BogBOFpAK6"
      },
      "execution_count": null,
      "outputs": []
    }
  ]
}